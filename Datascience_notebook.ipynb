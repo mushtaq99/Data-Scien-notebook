{
 "cells": [
  {
   "cell_type": "markdown",
   "id": "2e05638a-a87c-495f-a55d-397607e33436",
   "metadata": {
    "tags": []
   },
   "source": [
    "## Data Science Tools and Ecosystem"
   ]
  },
  {
   "cell_type": "markdown",
   "id": "d983323b-02ee-45e8-8e86-ccb3adb3b6d5",
   "metadata": {},
   "source": [
    "### In this notebook, Data Science Tools and Ecosystem are summarized."
   ]
  },
  {
   "cell_type": "markdown",
   "id": "e8bea57d-796c-44b5-8105-952414b57a1c",
   "metadata": {},
   "source": [
    "## Objectives:"
   ]
  },
  {
   "cell_type": "markdown",
   "id": "b4a804c8-db93-4e58-81b8-00415d5c3c67",
   "metadata": {},
   "source": [
    "#### Some of the popular languages that Data Scientists use are:\n",
    "1. Python\n",
    "2. R\n",
    "3. Javascript"
   ]
  },
  {
   "cell_type": "markdown",
   "id": "f7b2008c-e2d6-49a8-afdc-aee54aae5fd6",
   "metadata": {},
   "source": [
    "#### Some of the commonly used libraries used by Data Scientists include:\n",
    "1. SkLearn\n",
    "2. Pandas\n",
    "3. Matplotlib\n",
    "5. NumPy"
   ]
  },
  {
   "cell_type": "markdown",
   "id": "1cc75f95-0e89-4d6d-b4f6-608b4113bd4e",
   "metadata": {},
   "source": [
    "#### Data Science tools"
   ]
  },
  {
   "cell_type": "markdown",
   "id": "c153b5f4-b58d-4ebf-94f5-ea31a86c796b",
   "metadata": {},
   "source": [
    "| Data Science Tools |\n",
    "| ------------------ |\n",
    "| Spark              |\n",
    "| ------------------ |\n",
    "| TensorFlow         |\n",
    "| ------------------ |\n",
    "| R Studio           |"
   ]
  },
  {
   "cell_type": "markdown",
   "id": "8c4cce27-983c-4272-86f5-ba3aaffd925a",
   "metadata": {},
   "source": [
    "#### Below are a few examples of evaluating arithmetic expressions in Python."
   ]
  },
  {
   "cell_type": "code",
   "execution_count": 4,
   "id": "8ff100c5-b78a-4e15-b1a9-1f1089f48f29",
   "metadata": {
    "tags": []
   },
   "outputs": [
    {
     "data": {
      "text/plain": [
       "256"
      ]
     },
     "execution_count": 4,
     "metadata": {},
     "output_type": "execute_result"
    }
   ],
   "source": [
    "eval(\"2 ** 8\")"
   ]
  },
  {
   "cell_type": "code",
   "execution_count": 5,
   "id": "41dc4545-650c-4694-ad1b-2b64f5566f4e",
   "metadata": {
    "tags": []
   },
   "outputs": [
    {
     "data": {
      "text/plain": [
       "2048"
      ]
     },
     "execution_count": 5,
     "metadata": {},
     "output_type": "execute_result"
    }
   ],
   "source": [
    "eval(\"1024 + 1024\")"
   ]
  },
  {
   "cell_type": "code",
   "execution_count": 6,
   "id": "72f25802-8611-4bd1-bcef-8cf3b8598f71",
   "metadata": {
    "tags": []
   },
   "outputs": [
    {
     "data": {
      "text/plain": [
       "56"
      ]
     },
     "execution_count": 6,
     "metadata": {},
     "output_type": "execute_result"
    }
   ],
   "source": [
    "eval(\"sum([8, 16, 32])\")"
   ]
  },
  {
   "cell_type": "markdown",
   "id": "616e9339-6bb0-4918-9845-93858c962afe",
   "metadata": {},
   "source": [
    "#### This a simple arithmetic expression to mutiply then add integers"
   ]
  },
  {
   "cell_type": "code",
   "execution_count": 7,
   "id": "b0e64984-c898-44ff-877e-ba46b274167e",
   "metadata": {
    "tags": []
   },
   "outputs": [
    {
     "data": {
      "text/plain": [
       "17"
      ]
     },
     "execution_count": 7,
     "metadata": {},
     "output_type": "execute_result"
    }
   ],
   "source": [
    "(3*4)+5"
   ]
  },
  {
   "cell_type": "markdown",
   "id": "477a60cf-e27c-4ec2-92a8-7a0160e108ff",
   "metadata": {},
   "source": [
    "#### This will convert 200 minutes to hours by diving by 60."
   ]
  },
  {
   "cell_type": "code",
   "execution_count": 8,
   "id": "cce0f2d5-d586-40ae-99bd-57d50eb6e338",
   "metadata": {
    "tags": []
   },
   "outputs": [
    {
     "data": {
      "text/plain": [
       "3.3333333333333335"
      ]
     },
     "execution_count": 8,
     "metadata": {},
     "output_type": "execute_result"
    }
   ],
   "source": [
    "200/60"
   ]
  },
  {
   "cell_type": "markdown",
   "id": "5ec4beb9-abc0-42a2-83be-5574881860ff",
   "metadata": {},
   "source": [
    "## Author "
   ]
  },
  {
   "cell_type": "markdown",
   "id": "574ae489-3008-4fc6-96be-4c5912066330",
   "metadata": {
    "tags": []
   },
   "source": [
    "###### Mushtaq Rahim"
   ]
  },
  {
   "cell_type": "code",
   "execution_count": null,
   "id": "87f34642-d070-48a7-8c8a-dcb8239968ce",
   "metadata": {},
   "outputs": [],
   "source": []
  }
 ],
 "metadata": {
  "kernelspec": {
   "display_name": "Python",
   "language": "python",
   "name": "conda-env-python-py"
  },
  "language_info": {
   "codemirror_mode": {
    "name": "ipython",
    "version": 3
   },
   "file_extension": ".py",
   "mimetype": "text/x-python",
   "name": "python",
   "nbconvert_exporter": "python",
   "pygments_lexer": "ipython3",
   "version": "3.7.12"
  }
 },
 "nbformat": 4,
 "nbformat_minor": 5
}
